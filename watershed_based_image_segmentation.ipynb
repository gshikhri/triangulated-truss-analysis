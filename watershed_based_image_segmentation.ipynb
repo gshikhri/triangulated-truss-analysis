{
 "cells": [
  {
   "cell_type": "code",
   "execution_count": 1,
   "id": "fe321278",
   "metadata": {},
   "outputs": [],
   "source": [
    "import os\n",
    "import matplotlib.pyplot as plt\n",
    "import matplotlib\n",
    "from skimage import io, filters, morphology, measure, feature, future, segmentation, util\n",
    "from scipy import ndimage\n",
    "from skimage.color import label2rgb\n",
    "import os\n",
    "import numpy as np\n",
    "import pandas as pd\n",
    "from scipy import ndimage"
   ]
  },
  {
   "cell_type": "markdown",
   "id": "7f804656",
   "metadata": {},
   "source": [
    "## First importing the truss image"
   ]
  },
  {
   "cell_type": "code",
   "execution_count": 26,
   "id": "1e83f1dc",
   "metadata": {},
   "outputs": [],
   "source": [
    "%matplotlib qt"
   ]
  },
  {
   "cell_type": "code",
   "execution_count": 49,
   "id": "77aaf168",
   "metadata": {},
   "outputs": [
    {
     "data": {
      "text/plain": [
       "<matplotlib.image.AxesImage at 0x7fe90034d3a0>"
      ]
     },
     "execution_count": 49,
     "metadata": {},
     "output_type": "execute_result"
    }
   ],
   "source": [
    "in_folder = 'wireframe-tubes'\n",
    "in_file = 'tube dimer05.tif'\n",
    "truss_image = io.imread(os.path.join(in_folder, in_file))\n",
    "plt.imshow(truss_image)"
   ]
  },
  {
   "cell_type": "markdown",
   "id": "210ef933",
   "metadata": {},
   "source": [
    "## Now applying Otsu thresholding to create a sure Bg and a sure Fg image"
   ]
  },
  {
   "cell_type": "code",
   "execution_count": 102,
   "id": "43f58eed",
   "metadata": {},
   "outputs": [
    {
     "data": {
      "text/plain": [
       "<matplotlib.image.AxesImage at 0x7fe900351670>"
      ]
     },
     "execution_count": 102,
     "metadata": {},
     "output_type": "execute_result"
    }
   ],
   "source": [
    "threshold = filters.threshold_otsu(filters.median(truss_image, selem=np.ones(shape=(15, 15))))\n",
    "\n",
    "binary = (truss_image > threshold) # using '<' because the trusses have a lower intensity value\n",
    "morphed_binary = morphology.remove_small_holes(morphology.remove_small_objects(~binary, min_size=200), area_threshold=50)\n",
    "\n",
    "clear = segmentation.clear_border(morphed_binary)\n",
    "sure_bg = morphology.binary_dilation(clear, np.ones(shape=(5, 5)))\n",
    "sure_fg = morphology.binary_erosion(clear, np.ones(shape=(3, 3)))\n",
    "bg_fg = np.logical_and(sure_bg, ~sure_fg)\n",
    "plt.imshow(bg_fg)"
   ]
  },
  {
   "cell_type": "markdown",
   "id": "cd1dad40",
   "metadata": {},
   "source": [
    "## now skeletonizing individual trusses to create watershed sources, and performing watershed"
   ]
  },
  {
   "cell_type": "code",
   "execution_count": 105,
   "id": "f4aea6f6",
   "metadata": {},
   "outputs": [
    {
     "data": {
      "text/plain": [
       "<matplotlib.image.AxesImage at 0x7fe90034e640>"
      ]
     },
     "execution_count": 105,
     "metadata": {},
     "output_type": "execute_result"
    }
   ],
   "source": [
    "edges = filters.frangi(~sure_fg)\n",
    "eroded_edges = morphology.skeletonize(morphology.binary_erosion(edges, np.ones(shape=(12, 12))))\n",
    "markers = measure.label(eroded_edges)\n",
    "labels = segmentation.watershed(bg_fg, markers)\n",
    "# plt.imshow(segmentation.mark_boundaries(truss_image, labels))"
   ]
  },
  {
   "cell_type": "code",
   "execution_count": 117,
   "id": "24133893",
   "metadata": {},
   "outputs": [
    {
     "name": "stderr",
     "output_type": "stream",
     "text": [
      "<ipython-input-117-5fd590966e7f>:1: FutureWarning: The new recommended value for bg_label is 0. Until version 0.19, the default bg_label value is -1. From version 0.19, the bg_label default value will be 0. To avoid this warning, please explicitly set bg_label value.\n",
      "  plt.imshow(label2rgb(labels, image=truss_image))\n"
     ]
    },
    {
     "data": {
      "text/plain": [
       "<matplotlib.image.AxesImage at 0x7fe88eb25e50>"
      ]
     },
     "execution_count": 117,
     "metadata": {},
     "output_type": "execute_result"
    }
   ],
   "source": [
    "plt.imshow(label2rgb(labels, image=truss_image))"
   ]
  },
  {
   "cell_type": "code",
   "execution_count": 106,
   "id": "76f63217",
   "metadata": {},
   "outputs": [],
   "source": [
    "regions = measure.regionprops(labels, intensity_image=truss_image)\n",
    "\n",
    "region_means = [r.mean_intensity for r in regions]\n",
    "plt.hist(region_means, bins=20)\n",
    "\n",
    "from sklearn.cluster import KMeans\n",
    "model = KMeans(n_clusters=2)\n",
    "\n",
    "region_means = np.array(region_means).reshape(-1, 1)\n",
    "model.fit(region_means)\n",
    "bg_fg_labels = model.predict(region_means)\n",
    "bg_fg_labels\n",
    "\n",
    "classified_labels = labels.copy()\n",
    "for bg_fg, region in zip(bg_fg_labels, regions):\n",
    "    classified_labels[tuple(region.coords.T)] = bg_fg\n",
    "\n",
    "plt.imshow(label2rgb(classified_labels, image=truss_image))"
   ]
  },
  {
   "cell_type": "code",
   "execution_count": null,
   "id": "aaf7c252",
   "metadata": {},
   "outputs": [],
   "source": []
  }
 ],
 "metadata": {
  "kernelspec": {
   "display_name": "Python 3.8.8 64-bit ('regular': conda)",
   "language": "python",
   "name": "python388jvsc74a57bd0f2e397c25767664f205962f8b6ad4a346f4c65352ba45892a8270187399eb1fa"
  },
  "language_info": {
   "codemirror_mode": {
    "name": "ipython",
    "version": 3
   },
   "file_extension": ".py",
   "mimetype": "text/x-python",
   "name": "python",
   "nbconvert_exporter": "python",
   "pygments_lexer": "ipython3",
   "version": "3.8.8"
  }
 },
 "nbformat": 4,
 "nbformat_minor": 5
}
